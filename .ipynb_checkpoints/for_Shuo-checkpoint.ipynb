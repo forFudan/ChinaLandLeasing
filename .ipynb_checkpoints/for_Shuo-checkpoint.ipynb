{
 "cells": [
  {
   "cell_type": "code",
   "execution_count": null,
   "metadata": {
    "collapsed": true
   },
   "outputs": [],
   "source": [
    "# coding: utf-8\n",
    "\"\"\"\n",
    "A downloader that catch the data from Chinese land data website.\n",
    "\n",
    "Yuhao Zhu\n",
    "\n",
    "20170224: Creation of the file and adjust the code.\n",
    "20170225: Create a log file for links that are not able to connect.\n",
    "\"\"\"\n",
    "\n",
    "import requests, re, os, sys, csv, datetime\n",
    "sys.path.append(os.getcwd())\n",
    "import downloader\n",
    "\n",
    "for month in list(reversed(range(2,8))):\n",
    "\tspider = downloader.Downloader()\n",
    "\tspider.land_download(2016, month, 1)"
   ]
  },
  {
   "cell_type": "code",
   "execution_count": null,
   "metadata": {
    "collapsed": true
   },
   "outputs": [],
   "source": []
  }
 ],
 "metadata": {
  "kernelspec": {
   "display_name": "Python 3",
   "language": "python",
   "name": "python3"
  },
  "language_info": {
   "codemirror_mode": {
    "name": "ipython",
    "version": 3
   },
   "file_extension": ".py",
   "mimetype": "text/x-python",
   "name": "python",
   "nbconvert_exporter": "python",
   "pygments_lexer": "ipython3",
   "version": "3.5.2"
  }
 },
 "nbformat": 4,
 "nbformat_minor": 0
}
